{
 "cells": [
  {
   "cell_type": "markdown",
   "id": "40cc7396",
   "metadata": {},
   "source": [
    "##Q1:\n",
    "What is the simple definition of statistics?\n",
    "Statistics is the study and manipulation of data, including ways to gather, review, analyze, and draw conclusions from data. The two major areas of statistics are descriptive and inferential statistics."
   ]
  },
  {
   "cell_type": "markdown",
   "id": "e179f5fe",
   "metadata": {},
   "source": [
    "##Q2:\n",
    "There are two kinds of Statistics, which are descriptive Statistics and inferential Statistics. In descriptive Statistics, the Data or Collection Data are described in a summarized way, whereas in inferential Statistics, we make use of it in order to explain the descriptive kind. Both of them are used on a large scale."
   ]
  },
  {
   "cell_type": "markdown",
   "id": "dfff69d7",
   "metadata": {},
   "source": [
    "##Q3:\n",
    "\n",
    "What are the different types of data and what do they mean?\n",
    "data type\n",
    "Data Type\tUsed for\tExample\n",
    "Integer\tWhole numbers\t7, 12, 999\n",
    "Float (floating point)\tNumber with a decimal point\t3.15, 9.06, 00.13\n",
    "Character\tEncoding text numerically\t97 (in ASCII, 97 is a lower case 'a')\n",
    "Boolean\tRepresenting logical values\tTRUE, FALSE"
   ]
  },
  {
   "cell_type": "markdown",
   "id": "2b086590",
   "metadata": {},
   "source": [
    "##Q4:\n",
    "Categorise the following datasets with respect to quantitative and qualitative data types:\n",
    "\n",
    "1) ORDINAL TYPE OF DATA\n",
    "2) NOMINAL TYPE OF DATA\n",
    "3) INTERVAL SCALE OF DATA\n",
    "4) INTERVAL SCALE OF DATA\n",
    "    "
   ]
  },
  {
   "cell_type": "markdown",
   "id": "68490ce2",
   "metadata": {},
   "source": [
    "##Q5:\n",
    "Explain the concept of levels of measurement and give an example of a variable for each level.\n",
    "\n",
    "Levels of measurement, also called scales of measurement, tell you how precisely variables are recorded. In scientific research, a variable is anything that can take on different values across your data set (e.g., height or test scores).\n",
    "\n",
    "There are 4 levels of measurement:\n",
    "\n",
    "Nominal: the data can only be categorized\n",
    "Ordinal: the data can be categorized and ranked\n",
    "Interval: the data can be categorized, ranked, and evenly spaced\n",
    "Ratio: the data can be categorized, ranked, evenly spaced, and has a natural zero.\n",
    "Depending on the level of measurement of the variable, what you can do to analyze your data may be limited. There is a hierarchy in the complexity and precision of the level of measurement, from low (nominal) to high (ratio).\n",
    "\n",
    "Nominal level\tExamples of nominal scales\n",
    "You can categorize your data by labelling them in mutually exclusive groups, but there is no order between the categories.\t\n",
    "City of birth\n",
    "Gender\n",
    "Ethnicity\n",
    "Car brands\n",
    "Marital status\n",
    "Ordinal level\tExamples of ordinal scales\n",
    "You can categorize and rank your data in an order, but you cannot say anything about the intervals between the rankings.\n",
    "Although you can rank the top 5 Olympic medallists, this scale does not tell you how close or far apart they are in number of wins.\n",
    "\n",
    "Top 5 Olympic medallists\n",
    "Language ability (e.g., beginner, intermediate, fluent)\n",
    "Likert-type questions  (e.g., very dissatisfied to very satisfied)\n",
    "Interval level\tExamples of interval scales\n",
    "You can categorize, rank, and infer equal intervals between neighboring data points, but there is no true zero point.\n",
    "The difference between any two adjacent temperatures is the same: one degree. But  zero degrees is defined differently depending on the scale – it doesn’t mean an absolute absence of temperature.\n",
    "\n",
    "The same is true for test scores and personality inventories. A zero on a test is arbitrary; it does not mean that the test-taker has an absolute lack of the trait being measured.\n",
    "\n",
    "Test scores (e.g., IQ or exams)\n",
    "Personality inventories\n",
    "Temperature in Fahrenheit or Celsius\n",
    "Ratio level\tExamples of ratio scales\n",
    "You can categorize, rank, and infer equal intervals between neighboring data points, and there is a true zero point.\n",
    "A true zero means there is an absence of the variable of interest. In ratio scales, zero does mean an absolute lack of the variable.\n",
    "\n",
    "For example, in the Kelvin temperature scale, there are no negative degrees of temperature – zero means an absolute lack of thermal energy.\n",
    "\n",
    "Height\n",
    "Age\n",
    "Weight\n",
    "Temperature in Kelvin\n",
    "\n",
    "\n"
   ]
  },
  {
   "cell_type": "markdown",
   "id": "38402bb1",
   "metadata": {},
   "source": [
    "##Q6:\n",
    "\n",
    "It is important to understand the level of measurement of variables in research, because the level of measurement determines the type of statistical analysis that can be conducted, and, therefore, the type of conclusions that can be drawn from the research.\n"
   ]
  },
  {
   "cell_type": "markdown",
   "id": "7d346cd7",
   "metadata": {},
   "source": [
    "Nominal data is classified without a natural order or rank, whereas ordinal data has a predetermined or natural order. On the other hand, numerical or quantitative data will always be a number that can be measured."
   ]
  },
  {
   "cell_type": "markdown",
   "id": "b1cf3b3f",
   "metadata": {},
   "source": [
    "Histogram. If the groups depicted in a bar chart are actually continuous numeric ranges, we can push the bars together to generate a histogram. Bar lengths in histograms typically correspond to counts of data points, and their patterns demonstrate the distribution of variables in your data.\n"
   ]
  },
  {
   "cell_type": "markdown",
   "id": "5903d6da",
   "metadata": {},
   "source": [
    "Inferential statistics helps to compare data, make hypotheses and predictions. Descriptive statistics explains already known data related to a particular sample or population of a small size. Inferential statistics, however, aims to draw inferences or conclusions about a whole population."
   ]
  },
  {
   "cell_type": "markdown",
   "id": "d3fd2fb5",
   "metadata": {},
   "source": [
    "##Q10:\n",
    "Measures of Central Tendency and Dispersion\n",
    "The three commonly used measures of central tendency are the mean, median, and mode. "
   ]
  },
  {
   "cell_type": "code",
   "execution_count": null,
   "id": "e6bbc265",
   "metadata": {},
   "outputs": [],
   "source": []
  }
 ],
 "metadata": {
  "kernelspec": {
   "display_name": "Python 3 (ipykernel)",
   "language": "python",
   "name": "python3"
  },
  "language_info": {
   "codemirror_mode": {
    "name": "ipython",
    "version": 3
   },
   "file_extension": ".py",
   "mimetype": "text/x-python",
   "name": "python",
   "nbconvert_exporter": "python",
   "pygments_lexer": "ipython3",
   "version": "3.9.13"
  }
 },
 "nbformat": 4,
 "nbformat_minor": 5
}
